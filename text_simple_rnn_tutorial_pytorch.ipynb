{
  "nbformat": 4,
  "nbformat_minor": 0,
  "metadata": {
    "colab": {
      "name": "text_tutorial_pytorch",
      "provenance": [],
      "machine_shape": "hm",
      "authorship_tag": "ABX9TyMBP5t5CfiPn50axJefJdeP",
      "include_colab_link": true
    },
    "kernelspec": {
      "name": "python3",
      "display_name": "Python 3"
    },
    "accelerator": "GPU"
  },
  "cells": [
    {
      "cell_type": "markdown",
      "metadata": {
        "id": "view-in-github",
        "colab_type": "text"
      },
      "source": [
        "<a href=\"https://colab.research.google.com/github/theMADAIguy/STOCK-PREDICTION-USING-SVM-REGRESSION/blob/master/text_simple_rnn_tutorial_pytorch.ipynb\" target=\"_parent\"><img src=\"https://colab.research.google.com/assets/colab-badge.svg\" alt=\"Open In Colab\"/></a>"
      ]
    },
    {
      "cell_type": "code",
      "metadata": {
        "id": "IKjR8Bh1QODN",
        "colab_type": "code",
        "colab": {
          "base_uri": "https://localhost:8080/",
          "height": 165
        },
        "outputId": "0f124d9a-dc7e-45e5-80e6-77b89bb5c86c"
      },
      "source": [
        "import torch\n",
        "import torchtext\n",
        "from torchtext import data\n",
        "from torchtext import datasets\n",
        "import random\n",
        "import torch.nn as nn\n",
        "import torch.optim as optim\n",
        "\n",
        "#Constants\n",
        "SEED = 1234\n",
        "MAX_SIZE_VOCAB=25000\n",
        "BATCH_SIZE=64\n",
        "EPOCHS=10\n",
        "\n",
        "\n",
        "torch.manual_seed(SEED)\n",
        "torch.backends.cudnn.deterministic = True\n",
        "\n",
        "device = torch.device('cuda' if torch.cuda.is_available() else 'cpu')\n",
        "from google.colab import drive\n",
        "drive.mount('/content/gdrive')\n",
        "!ls \"/content/gdrive/My Drive/\n",
        "PATH = './text_rnn_model.pt'"
      ],
      "execution_count": 2,
      "outputs": [
        {
          "output_type": "stream",
          "text": [
            "Go to this URL in a browser: https://accounts.google.com/o/oauth2/auth?client_id=947318989803-6bn6qk8qdgf4n4g3pfee6491hc0brc4i.apps.googleusercontent.com&redirect_uri=urn%3aietf%3awg%3aoauth%3a2.0%3aoob&response_type=code&scope=email%20https%3a%2f%2fwww.googleapis.com%2fauth%2fdocs.test%20https%3a%2f%2fwww.googleapis.com%2fauth%2fdrive%20https%3a%2f%2fwww.googleapis.com%2fauth%2fdrive.photos.readonly%20https%3a%2f%2fwww.googleapis.com%2fauth%2fpeopleapi.readonly\n",
            "\n",
            "Enter your authorization code:\n",
            "··········\n",
            "Mounted at /content/gdrive\n",
            "/bin/bash: -c: line 0: unexpected EOF while looking for matching `\"'\n",
            "/bin/bash: -c: line 1: syntax error: unexpected end of file\n"
          ],
          "name": "stdout"
        }
      ]
    },
    {
      "cell_type": "code",
      "metadata": {
        "id": "Uylqyn0CcrUi",
        "colab_type": "code",
        "colab": {
          "base_uri": "https://localhost:8080/",
          "height": 54
        },
        "outputId": "9e9b9880-d754-4ecf-a834-1d104add9ba3"
      },
      "source": [
        "TEXT=data.Field(tokenize='spacy')\n",
        "LABEL=data.LabelField(dtype=torch.float)\n",
        "\n",
        "trainSet, testSet = datasets.IMDB.splits(TEXT, LABEL)\n",
        "testSet, validSet = testSet.split(random_state=random.seed(SEED))"
      ],
      "execution_count": 3,
      "outputs": [
        {
          "output_type": "stream",
          "text": [
            "downloading aclImdb_v1.tar.gz\n"
          ],
          "name": "stdout"
        },
        {
          "output_type": "stream",
          "text": [
            "aclImdb_v1.tar.gz: 100%|██████████| 84.1M/84.1M [00:07<00:00, 11.3MB/s]\n"
          ],
          "name": "stderr"
        }
      ]
    },
    {
      "cell_type": "code",
      "metadata": {
        "id": "Bs6-2PkvNNZ3",
        "colab_type": "code",
        "colab": {}
      },
      "source": [
        "TEXT.build_vocab(trainSet, max_size= MAX_SIZE_VOCAB)\n",
        "LABEL.build_vocab(trainSet)"
      ],
      "execution_count": 0,
      "outputs": []
    },
    {
      "cell_type": "code",
      "metadata": {
        "id": "vPberGlEO9HE",
        "colab_type": "code",
        "colab": {}
      },
      "source": [
        "train_iterator, valid_iterator, test_iterator = data.BucketIterator.splits((trainSet, validSet, testSet), batch_size=BATCH_SIZE, device=device)"
      ],
      "execution_count": 0,
      "outputs": []
    },
    {
      "cell_type": "code",
      "metadata": {
        "id": "EGc-u17rfL5m",
        "colab_type": "code",
        "colab": {}
      },
      "source": [
        "class RNN(nn.Module):\n",
        "\n",
        "  def __init__(self, inp_dim, embed_dim, hidden_dim, out_dim):\n",
        "    super().__init__()\n",
        "    self.embedding=nn.Embedding(inp_dim, embed_dim)\n",
        "    self.rnn=nn.RNN(embed_dim, hidden_dim)\n",
        "    self.fc=nn.Linear(hidden_dim, out_dim)\n",
        "\n",
        "  def forward(self, text):\n",
        "\n",
        "    embedded=self.embedding(text)\n",
        "    output, hidden =self.rnn(embedded)\n",
        "    fc=self.fc(hidden.squeeze(0))\n",
        "    return fc\n",
        "  "
      ],
      "execution_count": 0,
      "outputs": []
    },
    {
      "cell_type": "code",
      "metadata": {
        "id": "f1yEIky0g2Y0",
        "colab_type": "code",
        "colab": {
          "base_uri": "https://localhost:8080/",
          "height": 108
        },
        "outputId": "22f82fcb-0014-4a76-abae-790e980a90a1"
      },
      "source": [
        "INPUT_DIMENSION=len(TEXT.vocab)\n",
        "EMBEDDING_DIMENSION=100\n",
        "HIDDEN_DIMENSION=256\n",
        "OUTPUT_DIMENSION=1\n",
        "\n",
        "model=RNN(INPUT_DIMENSION,EMBEDDING_DIMENSION, HIDDEN_DIMENSION, OUTPUT_DIMENSION)\n",
        "print(model)"
      ],
      "execution_count": 7,
      "outputs": [
        {
          "output_type": "stream",
          "text": [
            "RNN(\n",
            "  (embedding): Embedding(25002, 100)\n",
            "  (rnn): RNN(100, 256)\n",
            "  (fc): Linear(in_features=256, out_features=1, bias=True)\n",
            ")\n"
          ],
          "name": "stdout"
        }
      ]
    },
    {
      "cell_type": "code",
      "metadata": {
        "id": "vZvk5RCNiSRL",
        "colab_type": "code",
        "colab": {}
      },
      "source": [
        "optimizer=optim.SGD(model.parameters(), lr=0.001)\n",
        "criterion=nn.BCEWithLogitsLoss()"
      ],
      "execution_count": 0,
      "outputs": []
    },
    {
      "cell_type": "code",
      "metadata": {
        "id": "e6BBcfXpkDrU",
        "colab_type": "code",
        "colab": {}
      },
      "source": [
        "model = model.to(device)\n",
        "criterion = criterion.to(device)"
      ],
      "execution_count": 0,
      "outputs": []
    },
    {
      "cell_type": "code",
      "metadata": {
        "id": "Mj0_eOFP9vB9",
        "colab_type": "code",
        "colab": {}
      },
      "source": [
        "def accuracy(predicted, labels):\n",
        "\n",
        "  rounded=torch.round(torch.sigmoid(predicted))\n",
        "  correct=(rounded==labels).float()\n",
        "  acc=correct.sum()/len(rounded)\n",
        "  return acc"
      ],
      "execution_count": 0,
      "outputs": []
    },
    {
      "cell_type": "code",
      "metadata": {
        "id": "HKN7DxC9BlQ0",
        "colab_type": "code",
        "colab": {}
      },
      "source": [
        "def train(model, iterator, optimizer, criterion):\n",
        "\n",
        "  epoch_loss=0.0\n",
        "  epoch_acc=0.0\n",
        "\n",
        "  model.train()\n",
        "\n",
        "  for batch in iterator:\n",
        "    model.zero_grad()\n",
        "    output=model(batch.text).squeeze(1)\n",
        "    loss=criterion(output, batch.label)\n",
        "    acc=accuracy(output, batch.label)\n",
        "    loss.backward()\n",
        "    optimizer.step()\n",
        "\n",
        "    epoch_loss+=loss.item()\n",
        "    epoch_acc+=acc.item()\n",
        "\n",
        "  return epoch_loss/len(iterator), epoch_acc / len(iterator)\n"
      ],
      "execution_count": 0,
      "outputs": []
    },
    {
      "cell_type": "code",
      "metadata": {
        "id": "eG8ZDaNnEylN",
        "colab_type": "code",
        "colab": {}
      },
      "source": [
        "def evaluate(model, iterator, optimizer, criterion):\n",
        "\n",
        "  epoch_loss=0.0\n",
        "  epoch_acc=0.0\n",
        "\n",
        "  model.eval()\n",
        "\n",
        "  with torch.no_grad():\n",
        "\n",
        "    for batch in iterator:\n",
        "      output=model(batch.text).squeeze(1)\n",
        "      loss=criterion(output, batch.label)\n",
        "      acc=accuracy(output, batch.label)\n",
        "      \n",
        "      epoch_loss+=loss.item()\n",
        "      epoch_acc+=acc.item()\n",
        "\n",
        "  return epoch_loss/len(iterator), epoch_acc / len(iterator)\n",
        "\n",
        "\n"
      ],
      "execution_count": 0,
      "outputs": []
    },
    {
      "cell_type": "code",
      "metadata": {
        "id": "TTE2IVoPGbqI",
        "colab_type": "code",
        "colab": {
          "base_uri": "https://localhost:8080/",
          "height": 199
        },
        "outputId": "4a42589c-41f2-4ac5-ca9f-68cd07106e4f"
      },
      "source": [
        "best_valid_loss=float('inf')\n",
        "for epoch in range(EPOCHS):\n",
        "\n",
        "  train_loss, train_acc=train(model, train_iterator, optimizer, criterion)\n",
        "  valid_loss, valid_acc=evaluate(model, valid_iterator, optimizer, criterion)\n",
        "\n",
        "  if(valid_loss < best_valid_loss):\n",
        "    best_valid_loss=valid_loss\n",
        "    torch.save(model.state_dict(), PATH)\n",
        "  \n",
        "  print(\"Epoch: \", epoch, \"train_loss: \", train_loss, \"valid_loss: \", valid_loss, \"train_acc: \", train_acc, \"valid_acc: \", valid_acc)"
      ],
      "execution_count": 13,
      "outputs": [
        {
          "output_type": "stream",
          "text": [
            "Epoch:  0 train_loss:  0.693708213851275 valid_loss:  0.6943505911503808 train_acc:  0.5042279411459822 valid_acc:  0.511917372881356\n",
            "Epoch:  1 train_loss:  0.6933424660311941 valid_loss:  0.6942130448454518 train_acc:  0.4929108057180634 valid_acc:  0.5131091101694916\n",
            "Epoch:  2 train_loss:  0.6933092689880019 valid_loss:  0.6941131403890707 train_acc:  0.4920955882657824 valid_acc:  0.512447033898305\n",
            "Epoch:  3 train_loss:  0.6932683250178462 valid_loss:  0.6943359991251412 train_acc:  0.5018781969309463 valid_acc:  0.5127118644067796\n",
            "Epoch:  4 train_loss:  0.6933856772644745 valid_loss:  0.6941945552825928 train_acc:  0.4923833120052162 valid_acc:  0.5136387711864406\n",
            "Epoch:  5 train_loss:  0.6933741683850203 valid_loss:  0.693930423865884 train_acc:  0.49409367010721467 valid_acc:  0.5107697743480488\n",
            "Epoch:  6 train_loss:  0.6930962525060415 valid_loss:  0.6936140307935618 train_acc:  0.5035805627513115 valid_acc:  0.5155367235005912\n",
            "Epoch:  7 train_loss:  0.6933590765194515 valid_loss:  0.6942070717528716 train_acc:  0.4971867007825076 valid_acc:  0.513771186440678\n",
            "Epoch:  8 train_loss:  0.6932491557982267 valid_loss:  0.6938641879518154 train_acc:  0.5012627878152501 valid_acc:  0.5107697743480488\n",
            "Epoch:  9 train_loss:  0.6931153157787859 valid_loss:  0.6938355105408167 train_acc:  0.5036524935908939 valid_acc:  0.5111670201107607\n"
          ],
          "name": "stdout"
        }
      ]
    },
    {
      "cell_type": "code",
      "metadata": {
        "id": "kQLK5mAGeIln",
        "colab_type": "code",
        "colab": {
          "base_uri": "https://localhost:8080/",
          "height": 35
        },
        "outputId": "ec3634b3-fa4e-4b81-d272-a46b7709791d"
      },
      "source": [
        "model.load_state_dict(torch.load(PATH))\n",
        "\n",
        "test_loss, test_acc=evaluate(model, test_iterator, optimizer, criterion)\n",
        "print(\"test_loss: \", test_loss, \"test_acc: \", test_acc*100)"
      ],
      "execution_count": 15,
      "outputs": [
        {
          "output_type": "stream",
          "text": [
            "test_loss:  0.6987875858797644 test_acc:  49.708355060459056\n"
          ],
          "name": "stdout"
        }
      ]
    },
    {
      "cell_type": "code",
      "metadata": {
        "id": "6DcStmy4u1fs",
        "colab_type": "code",
        "colab": {}
      },
      "source": [
        ""
      ],
      "execution_count": 0,
      "outputs": []
    }
  ]
}