{
  "nbformat": 4,
  "nbformat_minor": 0,
  "metadata": {
    "colab": {
      "name": "pytorch_tutorial_2",
      "provenance": [],
      "machine_shape": "hm",
      "authorship_tag": "ABX9TyNhNjHACXM59Gfw6/CFsAyt",
      "include_colab_link": true
    },
    "kernelspec": {
      "name": "python3",
      "display_name": "Python 3"
    },
    "accelerator": "GPU"
  },
  "cells": [
    {
      "cell_type": "markdown",
      "metadata": {
        "id": "view-in-github",
        "colab_type": "text"
      },
      "source": [
        "<a href=\"https://colab.research.google.com/github/theMADAIguy/STOCK-PREDICTION-USING-SVM-REGRESSION/blob/master/pytorch_tutorial_2.ipynb\" target=\"_parent\"><img src=\"https://colab.research.google.com/assets/colab-badge.svg\" alt=\"Open In Colab\"/></a>"
      ]
    },
    {
      "cell_type": "code",
      "metadata": {
        "id": "zUmKlntKdfym",
        "colab_type": "code",
        "colab": {}
      },
      "source": [
        "import torch\n",
        "import torchvision\n",
        "import torchvision.transforms as transforms"
      ],
      "execution_count": 0,
      "outputs": []
    },
    {
      "cell_type": "code",
      "metadata": {
        "id": "Zu82jl9e1pNd",
        "colab_type": "code",
        "colab": {}
      },
      "source": [
        "transform=transforms.Compose([transforms.ToTensor(),transforms.Normalize((0.5,0.5,0.5),(0.5,0.5,0.5))])"
      ],
      "execution_count": 0,
      "outputs": []
    },
    {
      "cell_type": "code",
      "metadata": {
        "id": "007dKPFx2Heo",
        "colab_type": "code",
        "colab": {
          "base_uri": "https://localhost:8080/",
          "height": 51
        },
        "outputId": "77a78ac3-cdb1-42d0-87a6-0097afa2cae0"
      },
      "source": [
        "trainSet=torchvision.datasets.CIFAR10(root='./data', train=True, transform=transform, download=True)\n",
        "testSet=torchvision.datasets.CIFAR10(root='./data', train=False, transform=transform, download=True)\n",
        "trainLoader=torch.utils.data.DataLoader(trainSet, batch_size=4, shuffle=True, num_workers=2)\n",
        "testLoader=torch.utils.data.DataLoader(testSet, batch_size=4, shuffle=False, num_workers=2)"
      ],
      "execution_count": 43,
      "outputs": [
        {
          "output_type": "stream",
          "text": [
            "Files already downloaded and verified\n",
            "Files already downloaded and verified\n"
          ],
          "name": "stdout"
        }
      ]
    },
    {
      "cell_type": "code",
      "metadata": {
        "id": "QmXrDvIW3FSY",
        "colab_type": "code",
        "colab": {}
      },
      "source": [
        "classes = ('plane', 'car', 'bird', 'cat',\n",
        "           'deer', 'dog', 'frog', 'horse', 'ship', 'truck')"
      ],
      "execution_count": 0,
      "outputs": []
    },
    {
      "cell_type": "code",
      "metadata": {
        "id": "RM_Y04Bx6O_W",
        "colab_type": "code",
        "colab": {}
      },
      "source": [
        "import torch.nn as nn\n",
        "import torch.nn.functional as F\n",
        "\n",
        "\n",
        "class Net(nn.Module):\n",
        "    def __init__(self):\n",
        "        super(Net, self).__init__()\n",
        "        self.conv1 = nn.Conv2d(3, 6, 5)\n",
        "        self.pool = nn.MaxPool2d(2, 2)\n",
        "        self.conv2 = nn.Conv2d(6, 16, 5)\n",
        "        self.fc1 = nn.Linear(16 * 5 * 5, 120)\n",
        "        self.fc2 = nn.Linear(120, 84)\n",
        "        self.fc3 = nn.Linear(84, 10)\n",
        "\n",
        "    def forward(self, x):\n",
        "        x = self.pool(F.relu(self.conv1(x)))\n",
        "        x = self.pool(F.relu(self.conv2(x)))\n",
        "        x = x.view(-1, 16 * 5 * 5)\n",
        "        x = F.relu(self.fc1(x))\n",
        "        x = F.relu(self.fc2(x))\n",
        "        x = self.fc3(x)\n",
        "        return x\n",
        "\n",
        "\n",
        "net = Net()"
      ],
      "execution_count": 0,
      "outputs": []
    },
    {
      "cell_type": "code",
      "metadata": {
        "id": "nWl2UqHQ7vUK",
        "colab_type": "code",
        "colab": {}
      },
      "source": [
        "import torch.optim as optim\n",
        "\n",
        "criterion = nn.CrossEntropyLoss()\n",
        "optimizer = optim.SGD(net.parameters(), lr=0.001, momentum=0.9)"
      ],
      "execution_count": 0,
      "outputs": []
    },
    {
      "cell_type": "code",
      "metadata": {
        "id": "gqtIxWYP70bO",
        "colab_type": "code",
        "colab": {
          "base_uri": "https://localhost:8080/",
          "height": 1000
        },
        "outputId": "56ef1030-dbf0-430b-cd7d-fbbf59644e6c"
      },
      "source": [
        "for epoch in range(20):\n",
        "  running_loss=0.0\n",
        "  for i, data in enumerate(trainLoader,0):\n",
        "    input, labels=data\n",
        "\n",
        "    optimizer.zero_grad()\n",
        "    output=net(input)\n",
        "    loss=criterion(output, labels)\n",
        "    loss.backward()\n",
        "    optimizer.step()\n",
        "\n",
        "    running_loss=running_loss+loss.item()\n",
        "    if i % 2000 == 1999:\n",
        "      print('[%d, %5d] loss: %.3f' %\n",
        "            (epoch + 1, i + 1, running_loss / 2000))\n",
        "      running_loss = 0.0\n"
      ],
      "execution_count": 47,
      "outputs": [
        {
          "output_type": "stream",
          "text": [
            "[1,  2000] loss: 2.235\n",
            "[1,  4000] loss: 1.851\n",
            "[1,  6000] loss: 1.653\n",
            "[1,  8000] loss: 1.566\n",
            "[1, 10000] loss: 1.523\n",
            "[1, 12000] loss: 1.452\n",
            "[2,  2000] loss: 1.373\n",
            "[2,  4000] loss: 1.356\n",
            "[2,  6000] loss: 1.344\n",
            "[2,  8000] loss: 1.303\n",
            "[2, 10000] loss: 1.289\n",
            "[2, 12000] loss: 1.244\n",
            "[3,  2000] loss: 1.206\n",
            "[3,  4000] loss: 1.199\n",
            "[3,  6000] loss: 1.184\n",
            "[3,  8000] loss: 1.199\n",
            "[3, 10000] loss: 1.177\n",
            "[3, 12000] loss: 1.176\n",
            "[4,  2000] loss: 1.066\n",
            "[4,  4000] loss: 1.107\n",
            "[4,  6000] loss: 1.099\n",
            "[4,  8000] loss: 1.109\n",
            "[4, 10000] loss: 1.123\n",
            "[4, 12000] loss: 1.118\n",
            "[5,  2000] loss: 1.020\n",
            "[5,  4000] loss: 1.021\n",
            "[5,  6000] loss: 1.041\n",
            "[5,  8000] loss: 1.050\n",
            "[5, 10000] loss: 1.044\n",
            "[5, 12000] loss: 1.049\n",
            "[6,  2000] loss: 0.951\n",
            "[6,  4000] loss: 0.982\n",
            "[6,  6000] loss: 0.970\n",
            "[6,  8000] loss: 0.986\n",
            "[6, 10000] loss: 1.003\n",
            "[6, 12000] loss: 0.992\n",
            "[7,  2000] loss: 0.904\n",
            "[7,  4000] loss: 0.912\n",
            "[7,  6000] loss: 0.955\n",
            "[7,  8000] loss: 0.947\n",
            "[7, 10000] loss: 0.946\n",
            "[7, 12000] loss: 0.980\n",
            "[8,  2000] loss: 0.871\n",
            "[8,  4000] loss: 0.865\n",
            "[8,  6000] loss: 0.901\n",
            "[8,  8000] loss: 0.910\n",
            "[8, 10000] loss: 0.914\n",
            "[8, 12000] loss: 0.927\n",
            "[9,  2000] loss: 0.807\n",
            "[9,  4000] loss: 0.862\n",
            "[9,  6000] loss: 0.864\n",
            "[9,  8000] loss: 0.867\n",
            "[9, 10000] loss: 0.894\n",
            "[9, 12000] loss: 0.898\n",
            "[10,  2000] loss: 0.789\n",
            "[10,  4000] loss: 0.816\n",
            "[10,  6000] loss: 0.817\n",
            "[10,  8000] loss: 0.850\n",
            "[10, 10000] loss: 0.867\n",
            "[10, 12000] loss: 0.872\n",
            "[11,  2000] loss: 0.766\n",
            "[11,  4000] loss: 0.797\n",
            "[11,  6000] loss: 0.792\n",
            "[11,  8000] loss: 0.830\n",
            "[11, 10000] loss: 0.841\n",
            "[11, 12000] loss: 0.835\n",
            "[12,  2000] loss: 0.733\n",
            "[12,  4000] loss: 0.743\n",
            "[12,  6000] loss: 0.783\n",
            "[12,  8000] loss: 0.814\n",
            "[12, 10000] loss: 0.804\n",
            "[12, 12000] loss: 0.823\n",
            "[13,  2000] loss: 0.727\n",
            "[13,  4000] loss: 0.713\n",
            "[13,  6000] loss: 0.771\n",
            "[13,  8000] loss: 0.763\n",
            "[13, 10000] loss: 0.793\n",
            "[13, 12000] loss: 0.824\n",
            "[14,  2000] loss: 0.704\n",
            "[14,  4000] loss: 0.738\n",
            "[14,  6000] loss: 0.749\n",
            "[14,  8000] loss: 0.753\n",
            "[14, 10000] loss: 0.785\n",
            "[14, 12000] loss: 0.781\n",
            "[15,  2000] loss: 0.679\n",
            "[15,  4000] loss: 0.717\n",
            "[15,  6000] loss: 0.726\n",
            "[15,  8000] loss: 0.751\n",
            "[15, 10000] loss: 0.760\n",
            "[15, 12000] loss: 0.760\n",
            "[16,  2000] loss: 0.675\n",
            "[16,  4000] loss: 0.709\n",
            "[16,  6000] loss: 0.707\n",
            "[16,  8000] loss: 0.718\n",
            "[16, 10000] loss: 0.763\n",
            "[16, 12000] loss: 0.753\n",
            "[17,  2000] loss: 0.648\n",
            "[17,  4000] loss: 0.690\n",
            "[17,  6000] loss: 0.714\n",
            "[17,  8000] loss: 0.698\n",
            "[17, 10000] loss: 0.752\n",
            "[17, 12000] loss: 0.763\n",
            "[18,  2000] loss: 0.637\n",
            "[18,  4000] loss: 0.666\n",
            "[18,  6000] loss: 0.679\n",
            "[18,  8000] loss: 0.700\n",
            "[18, 10000] loss: 0.733\n",
            "[18, 12000] loss: 0.747\n",
            "[19,  2000] loss: 0.611\n",
            "[19,  4000] loss: 0.665\n",
            "[19,  6000] loss: 0.694\n",
            "[19,  8000] loss: 0.722\n",
            "[19, 10000] loss: 0.703\n",
            "[19, 12000] loss: 0.742\n",
            "[20,  2000] loss: 0.594\n",
            "[20,  4000] loss: 0.671\n",
            "[20,  6000] loss: 0.644\n",
            "[20,  8000] loss: 0.695\n",
            "[20, 10000] loss: 0.708\n",
            "[20, 12000] loss: 0.738\n"
          ],
          "name": "stdout"
        }
      ]
    },
    {
      "cell_type": "code",
      "metadata": {
        "id": "Ile083efK4GC",
        "colab_type": "code",
        "colab": {
          "base_uri": "https://localhost:8080/",
          "height": 68
        },
        "outputId": "4dccf8f4-15f2-4457-c3bd-9be462fe72fe"
      },
      "source": [
        "from google.colab import drive\n",
        "drive.mount('/content/gdrive')\n",
        "!ls \"/content/gdrive/My Drive/\n",
        "PATH = './cifar_net.pth'\n",
        "import torch\n",
        "torch.save(net.state_dict(), PATH)"
      ],
      "execution_count": 53,
      "outputs": [
        {
          "output_type": "stream",
          "text": [
            "Drive already mounted at /content/gdrive; to attempt to forcibly remount, call drive.mount(\"/content/gdrive\", force_remount=True).\n",
            "/bin/bash: -c: line 0: unexpected EOF while looking for matching `\"'\n",
            "/bin/bash: -c: line 1: syntax error: unexpected end of file\n"
          ],
          "name": "stdout"
        }
      ]
    },
    {
      "cell_type": "code",
      "metadata": {
        "id": "CD-tMN8nhXqB",
        "colab_type": "code",
        "colab": {
          "base_uri": "https://localhost:8080/",
          "height": 170
        },
        "outputId": "9961524c-b0f3-4817-9a9f-c9bbc6fe0756"
      },
      "source": [
        "##Testing\n",
        "\n",
        "\n",
        "net2=Net()\n",
        "net2.load_state_dict(torch.load(PATH))\n",
        "print(net2)\n",
        "\n",
        "\n",
        "dataiter=iter(testLoader)\n",
        "images, labels=dataiter.next()\n",
        "print(labels)"
      ],
      "execution_count": 54,
      "outputs": [
        {
          "output_type": "stream",
          "text": [
            "Net(\n",
            "  (conv1): Conv2d(3, 6, kernel_size=(5, 5), stride=(1, 1))\n",
            "  (pool): MaxPool2d(kernel_size=2, stride=2, padding=0, dilation=1, ceil_mode=False)\n",
            "  (conv2): Conv2d(6, 16, kernel_size=(5, 5), stride=(1, 1))\n",
            "  (fc1): Linear(in_features=400, out_features=120, bias=True)\n",
            "  (fc2): Linear(in_features=120, out_features=84, bias=True)\n",
            "  (fc3): Linear(in_features=84, out_features=10, bias=True)\n",
            ")\n",
            "tensor([3, 8, 8, 0])\n"
          ],
          "name": "stdout"
        }
      ]
    },
    {
      "cell_type": "code",
      "metadata": {
        "id": "O0mlrgmGz9LK",
        "colab_type": "code",
        "colab": {
          "base_uri": "https://localhost:8080/",
          "height": 34
        },
        "outputId": "2152fa5e-8233-4072-fa90-2043b3bb82dc"
      },
      "source": [
        "test_outputs=net2(images)\n",
        "_, predicted = torch.max(test_outputs,1)\n",
        "print(predicted)"
      ],
      "execution_count": 55,
      "outputs": [
        {
          "output_type": "stream",
          "text": [
            "tensor([3, 8, 8, 8])\n"
          ],
          "name": "stdout"
        }
      ]
    },
    {
      "cell_type": "code",
      "metadata": {
        "id": "hLpbOoSA4ELY",
        "colab_type": "code",
        "colab": {
          "base_uri": "https://localhost:8080/",
          "height": 51
        },
        "outputId": "83e9b34d-7fa6-4e72-cd5e-25e204220577"
      },
      "source": [
        "correct=0\n",
        "total=0\n",
        "\n",
        "with torch.no_grad():\n",
        "  for data in testLoader:\n",
        "    images, labels = data\n",
        "    test_outputs=net2(images)\n",
        "    _, predicted = torch.max(test_outputs.data,1)\n",
        "    total=total+labels.size(0)\n",
        "    correct+=(predicted==labels).sum().item()\n",
        "  print(total)\n",
        "  print(correct)"
      ],
      "execution_count": 56,
      "outputs": [
        {
          "output_type": "stream",
          "text": [
            "10000\n",
            "6037\n"
          ],
          "name": "stdout"
        }
      ]
    },
    {
      "cell_type": "code",
      "metadata": {
        "id": "78mt_tcx4zHu",
        "colab_type": "code",
        "colab": {
          "base_uri": "https://localhost:8080/",
          "height": 34
        },
        "outputId": "3bc2ee91-2a0d-45a2-c274-5eb85420715f"
      },
      "source": [
        "print(\"Accuracy:\", (correct*100/total))"
      ],
      "execution_count": 57,
      "outputs": [
        {
          "output_type": "stream",
          "text": [
            "Accuracy: 60.37\n"
          ],
          "name": "stdout"
        }
      ]
    },
    {
      "cell_type": "code",
      "metadata": {
        "id": "V1W25H5k6XTz",
        "colab_type": "code",
        "colab": {}
      },
      "source": [
        ""
      ],
      "execution_count": 0,
      "outputs": []
    }
  ]
}