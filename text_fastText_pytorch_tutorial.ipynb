{
  "nbformat": 4,
  "nbformat_minor": 0,
  "metadata": {
    "colab": {
      "name": "Untitled0.ipynb",
      "provenance": [],
      "authorship_tag": "ABX9TyMVSL1lDvd8yats+6Us/hEj",
      "include_colab_link": true
    },
    "kernelspec": {
      "name": "python3",
      "display_name": "Python 3"
    }
  },
  "cells": [
    {
      "cell_type": "markdown",
      "metadata": {
        "id": "view-in-github",
        "colab_type": "text"
      },
      "source": [
        "<a href=\"https://colab.research.google.com/github/theMADAIguy/STOCK-PREDICTION-USING-SVM-REGRESSION/blob/master/text_fastText_pytorch_tutorial.ipynb\" target=\"_parent\"><img src=\"https://colab.research.google.com/assets/colab-badge.svg\" alt=\"Open In Colab\"/></a>"
      ]
    },
    {
      "cell_type": "code",
      "metadata": {
        "id": "2D1Ys10VO6bA",
        "colab_type": "code",
        "colab": {
          "base_uri": "https://localhost:8080/",
          "height": 165
        },
        "outputId": "9f6adbcb-ab08-4194-8901-fc00e654b9c8"
      },
      "source": [
        "import torch\n",
        "import torchtext\n",
        "from torchtext import data, datasets\n",
        "import random\n",
        "\n",
        "SEED = 1234\n",
        "BATCH_SIZE=64\n",
        "EPOCHS=10\n",
        "\n",
        "torch.manual_seed(SEED)\n",
        "torch.backends.cudnn.deterministic = True\n",
        "device = torch.device('cuda' if torch.cuda.is_available() else 'cpu')\n",
        "\n",
        "from google.colab import drive\n",
        "drive.mount('/content/gdrive')\n",
        "!ls \"/content/gdrive/My Drive/\n",
        "PATH = './text_fast_test_model.pt'\n"
      ],
      "execution_count": 2,
      "outputs": [
        {
          "output_type": "stream",
          "text": [
            "Go to this URL in a browser: https://accounts.google.com/o/oauth2/auth?client_id=947318989803-6bn6qk8qdgf4n4g3pfee6491hc0brc4i.apps.googleusercontent.com&redirect_uri=urn%3aietf%3awg%3aoauth%3a2.0%3aoob&response_type=code&scope=email%20https%3a%2f%2fwww.googleapis.com%2fauth%2fdocs.test%20https%3a%2f%2fwww.googleapis.com%2fauth%2fdrive%20https%3a%2f%2fwww.googleapis.com%2fauth%2fdrive.photos.readonly%20https%3a%2f%2fwww.googleapis.com%2fauth%2fpeopleapi.readonly\n",
            "\n",
            "Enter your authorization code:\n",
            "··········\n",
            "Mounted at /content/gdrive\n",
            "/bin/bash: -c: line 0: unexpected EOF while looking for matching `\"'\n",
            "/bin/bash: -c: line 1: syntax error: unexpected end of file\n"
          ],
          "name": "stdout"
        }
      ]
    },
    {
      "cell_type": "code",
      "metadata": {
        "id": "7oWR1xn2O-Oy",
        "colab_type": "code",
        "colab": {}
      },
      "source": [
        "def generate_ngram(x):\n",
        "  n_grams=set(zip(*[x[i:] for i in range(2)]))\n",
        "  for gram in n_grams:\n",
        "    x.append(' '.join(gram))\n",
        "  return x\n"
      ],
      "execution_count": 0,
      "outputs": []
    },
    {
      "cell_type": "code",
      "metadata": {
        "id": "oylg_XG8PiOt",
        "colab_type": "code",
        "colab": {
          "base_uri": "https://localhost:8080/",
          "height": 54
        },
        "outputId": "e22f2c4e-e4d0-4068-ed07-7b039d9cdec4"
      },
      "source": [
        "TEXT=data.Field(tokenize='spacy', preprocessing=generate_ngram)\n",
        "LABEL=data.LabelField(dtype=torch.float)\n",
        "\n",
        "trainSet, testSet=datasets.IMDB.splits(TEXT, LABEL)\n",
        "trainSet, validSet=trainSet.split(random_state=random.seed(SEED))"
      ],
      "execution_count": 4,
      "outputs": [
        {
          "output_type": "stream",
          "text": [
            "\raclImdb_v1.tar.gz:   0%|          | 0.00/84.1M [00:00<?, ?B/s]"
          ],
          "name": "stderr"
        },
        {
          "output_type": "stream",
          "text": [
            "downloading aclImdb_v1.tar.gz\n"
          ],
          "name": "stdout"
        },
        {
          "output_type": "stream",
          "text": [
            "aclImdb_v1.tar.gz: 100%|██████████| 84.1M/84.1M [00:05<00:00, 15.8MB/s]\n"
          ],
          "name": "stderr"
        }
      ]
    },
    {
      "cell_type": "code",
      "metadata": {
        "id": "at55xEIyRG2S",
        "colab_type": "code",
        "colab": {
          "base_uri": "https://localhost:8080/",
          "height": 54
        },
        "outputId": "0a44df2c-43e3-430a-864f-689b4e99ac34"
      },
      "source": [
        "TEXT.build_vocab(trainSet, max_size=MAX_SIZE_VOCAB, vectors='glove.6B.100d', unk_init=torch.Tensor.normal_)\n",
        "LABEL.build_vocab(trainSet)\n",
        "\n",
        "trainIterator, validIterator, testIterator=data.BucketIterator.splits((trainSet, validSet, testSet), batch_size=BATCH_SIZE, device=device)"
      ],
      "execution_count": 5,
      "outputs": [
        {
          "output_type": "stream",
          "text": [
            ".vector_cache/glove.6B.zip: 862MB [06:28, 2.22MB/s]                           \n",
            "100%|█████████▉| 399728/400000 [00:19<00:00, 20807.95it/s]"
          ],
          "name": "stderr"
        }
      ]
    },
    {
      "cell_type": "code",
      "metadata": {
        "id": "nateBzDjTEAP",
        "colab_type": "code",
        "colab": {}
      },
      "source": [
        "import torch.nn as nn\n",
        "import torch.nn.functional as F\n",
        "\n",
        "class fastText(nn.Module):\n",
        "  def __init__(self, embedding_dim, output_dim, vocab_size, pad_idx):\n",
        "    super().__init__()\n",
        "\n",
        "    self.embedding=nn.Embedding(vocab_size, embedding_dim, pad_idx)\n",
        "    self.fc=nn.Linear(embedding_dim, output_dim)\n",
        "    \n",
        "  def forward(self, text):\n",
        "    embedded=self.embedding(text)\n",
        "    embedded=embedded.permute(1,0,2)\n",
        "    pooled=F.avg_pool2d(embedded, (embedded.shape[1],1)).squeeze(1)\n",
        "    return self.fc(pooled)\n"
      ],
      "execution_count": 0,
      "outputs": []
    },
    {
      "cell_type": "code",
      "metadata": {
        "id": "3SWcnczVQqXR",
        "colab_type": "code",
        "colab": {
          "base_uri": "https://localhost:8080/",
          "height": 90
        },
        "outputId": "8be4ad66-1b72-47dd-d713-62941f96cfb7"
      },
      "source": [
        "INPUT_DIM=len(TEXT.vocab)\n",
        "EMBEDDING_DIM=100\n",
        "OUTPUT_DIM=1\n",
        "MAX_SIZE_VOCAB=25004\n",
        "PAD_IDX=TEXT.vocab.stoi[TEXT.pad_token]\n",
        "\n",
        "model=fastText(EMBEDDING_DIM, OUTPUT_DIM, MAX_SIZE_VOCAB, PAD_IDX)\n",
        "print(model)"
      ],
      "execution_count": 24,
      "outputs": [
        {
          "output_type": "stream",
          "text": [
            "fastText(\n",
            "  (embedding): Embedding(25004, 100, padding_idx=1)\n",
            "  (fc): Linear(in_features=100, out_features=1, bias=True)\n",
            ")\n"
          ],
          "name": "stdout"
        }
      ]
    },
    {
      "cell_type": "code",
      "metadata": {
        "id": "QB43cpROVsaq",
        "colab_type": "code",
        "colab": {
          "base_uri": "https://localhost:8080/",
          "height": 35
        },
        "outputId": "81ca1982-010a-4f30-e4c4-2bdf0d1a9f52"
      },
      "source": [
        "pre_trained_embedding=TEXT.vocab.vectors\n",
        "print(pre_trained_embedding.shape)\n",
        "model.embedding.weight.data.copy_(pre_trained_embedding)\n",
        "UNK_IDX=TEXT.vocab.stoi[TEXT.unk_token]\n",
        "model.embedding.weight.data[UNK_IDX]=torch.zeros(EMBEDDING_DIM)\n",
        "model.embedding.weight.data[PAD_IDX]=torch.zeros(EMBEDDING_DIM)"
      ],
      "execution_count": 25,
      "outputs": [
        {
          "output_type": "stream",
          "text": [
            "torch.Size([25004, 100])\n"
          ],
          "name": "stdout"
        }
      ]
    },
    {
      "cell_type": "code",
      "metadata": {
        "id": "i45OhXeeW6Hv",
        "colab_type": "code",
        "colab": {
          "base_uri": "https://localhost:8080/",
          "height": 35
        },
        "outputId": "60a25780-59dc-4947-de25-df566160dd34"
      },
      "source": [
        "import torch.optim as optim\n",
        "optimizer=optim.Adam(model.parameters())\n",
        "criterion=nn.BCEWithLogitsLoss()\n",
        "\n",
        "model.to(device)\n",
        "criterion.to(device)\n"
      ],
      "execution_count": 26,
      "outputs": [
        {
          "output_type": "execute_result",
          "data": {
            "text/plain": [
              "BCEWithLogitsLoss()"
            ]
          },
          "metadata": {
            "tags": []
          },
          "execution_count": 26
        }
      ]
    },
    {
      "cell_type": "code",
      "metadata": {
        "id": "H2R1_MUvXOXK",
        "colab_type": "code",
        "colab": {}
      },
      "source": [
        "def accuracy(prediction, y):\n",
        "\n",
        "  rounded_pred=torch.round(torch.sigmoid(prediction))\n",
        "  correct=(rounded_pred==y).float()\n",
        "  acc=correct.sum()/len(correct)\n",
        "  return acc"
      ],
      "execution_count": 0,
      "outputs": []
    },
    {
      "cell_type": "code",
      "metadata": {
        "id": "FZKBaUZm41-4",
        "colab_type": "code",
        "colab": {}
      },
      "source": [
        "def train(model, iterator, optimizer, criterion):\n",
        "\n",
        "  epoch_loss=0.0\n",
        "  epoch_acc=0.0\n",
        "\n",
        "  model.train()\n",
        "\n",
        "  for batch in iterator:\n",
        "\n",
        "    optimizer.zero_grad()\n",
        "    output=model(batch.text).squeeze(1)\n",
        "    \n",
        "    acc=accuracy(output, batch.label)\n",
        "    loss=criterion(output, batch.label)\n",
        "\n",
        "    loss.backward()\n",
        "    optimizer.step()\n",
        "\n",
        "    epoch_acc+=acc.item()\n",
        "    epoch_loss+=loss.item()\n",
        "  return epoch_loss/len(iterator), epoch_acc/len(iterator)"
      ],
      "execution_count": 0,
      "outputs": []
    },
    {
      "cell_type": "code",
      "metadata": {
        "id": "NhZaEUnI6Fe-",
        "colab_type": "code",
        "colab": {}
      },
      "source": [
        "def evaluate(model, iterator, criterion):\n",
        "\n",
        "  epoch_loss=0.0\n",
        "  epoch_acc=0.0\n",
        "\n",
        "  model.eval()\n",
        "\n",
        "  with torch.no_grad():\n",
        "      \n",
        "    for batch in iterator:\n",
        "\n",
        "      output=model(batch.text).squeeze(1)\n",
        "      \n",
        "      acc=accuracy(output, batch.label)\n",
        "      loss=criterion(output, batch.label)\n",
        "\n",
        "      epoch_acc+=acc.item()\n",
        "      epoch_loss+=loss.item()\n",
        "  return epoch_loss/len(iterator), epoch_acc/len(iterator)"
      ],
      "execution_count": 0,
      "outputs": []
    },
    {
      "cell_type": "code",
      "metadata": {
        "id": "gSwbZd106rtF",
        "colab_type": "code",
        "colab": {
          "base_uri": "https://localhost:8080/",
          "height": 199
        },
        "outputId": "a245c4ac-8f0c-48b1-97f8-945046522c6f"
      },
      "source": [
        "best_valid_loss=float('inf')\n",
        "\n",
        "for epoch in range(EPOCHS):\n",
        "\n",
        "  train_loss, train_acc=train(model, trainIterator, optimizer, criterion)\n",
        "  valid_loss, valid_acc=evaluate(model, validIterator, criterion)\n",
        "\n",
        "  if best_valid_loss > valid_loss:\n",
        "    best_valid_loss=valid_loss\n",
        "    torch.save(model.state_dict(), PATH)\n",
        "  \n",
        "  print(\"Epoch: \", epoch, \"Train Loss: \", train_loss, \"Valid Loss: \", valid_loss, \"Train Acc: \", train_acc, \"Valid Acc: \", valid_acc)\n",
        "\n"
      ],
      "execution_count": 38,
      "outputs": [
        {
          "output_type": "stream",
          "text": [
            "Epoch:  0 Train Loss:  0.49692417583326354 Valid Loss:  0.3916273618401107 Train Acc:  0.8413875131276403 Valid Acc:  0.8352754237288136\n",
            "Epoch:  1 Train Loss:  0.430133659202252 Valid Loss:  0.37490928728701706 Train Acc:  0.8701039493954095 Valid Acc:  0.8542549433344502\n",
            "Epoch:  2 Train Loss:  0.38028284711559324 Valid Loss:  0.37824867627883363 Train Acc:  0.8852238659441036 Valid Acc:  0.8677612992666536\n",
            "Epoch:  3 Train Loss:  0.34082594834757546 Valid Loss:  0.38896420774823526 Train Acc:  0.8975821167883211 Valid Acc:  0.8747793077412298\n",
            "Epoch:  4 Train Loss:  0.31016405171503986 Valid Loss:  0.40462483528812054 Train Acc:  0.9060870698333656 Valid Acc:  0.8796786721480094\n",
            "Epoch:  5 Train Loss:  0.28328361867988194 Valid Loss:  0.41760733477392437 Train Acc:  0.9132641423357665 Valid Acc:  0.8847104518090264\n",
            "Epoch:  6 Train Loss:  0.2636210916795 Valid Loss:  0.43142836730358963 Train Acc:  0.9187223019391081 Valid Acc:  0.8860346043513994\n",
            "Epoch:  7 Train Loss:  0.24202311346239416 Valid Loss:  0.4482240798109669 Train Acc:  0.9250684306569343 Valid Acc:  0.8892125704530942\n",
            "Epoch:  8 Train Loss:  0.2273850820577928 Valid Loss:  0.4593902639413284 Train Acc:  0.9302821949015568 Valid Acc:  0.8894774009615688\n",
            "Epoch:  9 Train Loss:  0.21315614721418297 Valid Loss:  0.4745451643179029 Train Acc:  0.9347057481751825 Valid Acc:  0.89186087553784\n"
          ],
          "name": "stdout"
        }
      ]
    },
    {
      "cell_type": "code",
      "metadata": {
        "id": "M0Y5M9Et8FaP",
        "colab_type": "code",
        "colab": {
          "base_uri": "https://localhost:8080/",
          "height": 35
        },
        "outputId": "7bdf0b9a-f9f3-4ae3-d53c-5924411a917d"
      },
      "source": [
        "test_loss, test_acc = evaluate(model, testIterator, criterion)\n",
        "print(\"Test Loss: \", test_loss, \"Test Acc\", test_acc)"
      ],
      "execution_count": 40,
      "outputs": [
        {
          "output_type": "stream",
          "text": [
            "Test Loss:  0.5009233776451377 Test Acc 0.8902093989160055\n"
          ],
          "name": "stdout"
        }
      ]
    },
    {
      "cell_type": "code",
      "metadata": {
        "id": "PI-NU1YUQf_h",
        "colab_type": "code",
        "colab": {}
      },
      "source": [
        ""
      ],
      "execution_count": 0,
      "outputs": []
    }
  ]
}